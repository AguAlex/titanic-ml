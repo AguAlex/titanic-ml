{
 "cells": [
  {
   "cell_type": "markdown",
   "id": "f5f0fc7a",
   "metadata": {},
   "source": [
    "# 🚢 Titanic Survival Prediction"
   ]
  },
  {
   "cell_type": "code",
   "execution_count": 2,
   "id": "1ff200a5",
   "metadata": {
    "_cell_guid": "b1076dfc-b9ad-4769-8c92-a6c4dae69d19",
    "_uuid": "8f2839f25d086af736a60e9eeb907d3b93b6e0e5",
    "execution": {
     "iopub.execute_input": "2025-09-10T14:35:03.892444Z",
     "iopub.status.busy": "2025-09-10T14:35:03.891779Z",
     "iopub.status.idle": "2025-09-10T14:35:08.098234Z",
     "shell.execute_reply": "2025-09-10T14:35:08.097388Z"
    },
    "papermill": {
     "duration": 4.214301,
     "end_time": "2025-09-10T14:35:08.099816",
     "exception": false,
     "start_time": "2025-09-10T14:35:03.885515",
     "status": "completed"
    },
    "tags": []
   },
   "outputs": [],
   "source": [
    "import pandas as pd\n",
    "import numpy as np\n",
    "import matplotlib.pyplot as plt\n",
    "import seaborn as sns\n",
    "from sklearn.model_selection import train_test_split, cross_val_score, GridSearchCV\n",
    "from sklearn.preprocessing import StandardScaler, OneHotEncoder\n",
    "from sklearn.compose import ColumnTransformer, make_column_selector\n",
    "from sklearn.pipeline import Pipeline\n",
    "from sklearn.impute import SimpleImputer\n",
    "from sklearn.linear_model import LogisticRegression\n",
    "from sklearn.tree import DecisionTreeClassifier\n",
    "from sklearn.ensemble import RandomForestClassifier, GradientBoostingClassifier\n",
    "from sklearn.svm import SVC\n",
    "from sklearn.metrics import accuracy_score, precision_score, recall_score, f1_score, roc_auc_score, roc_curve\n",
    "from sklearn.base import BaseEstimator, TransformerMixin\n",
    "\n",
    "train_df = pd.read_csv('dataset/train.csv')\n",
    "\n",
    "test_df = pd.read_csv('dataset/test.csv')"
   ]
  },
  {
   "cell_type": "code",
   "execution_count": 3,
   "id": "3402a023",
   "metadata": {
    "execution": {
     "iopub.execute_input": "2025-09-10T14:35:08.196991Z",
     "iopub.status.busy": "2025-09-10T14:35:08.196357Z",
     "iopub.status.idle": "2025-09-10T14:35:08.208117Z",
     "shell.execute_reply": "2025-09-10T14:35:08.207413Z"
    },
    "papermill": {
     "duration": 0.01813,
     "end_time": "2025-09-10T14:35:08.209462",
     "exception": false,
     "start_time": "2025-09-10T14:35:08.191332",
     "status": "completed"
    },
    "tags": []
   },
   "outputs": [
    {
     "data": {
      "text/html": [
       "<div>\n",
       "<style scoped>\n",
       "    .dataframe tbody tr th:only-of-type {\n",
       "        vertical-align: middle;\n",
       "    }\n",
       "\n",
       "    .dataframe tbody tr th {\n",
       "        vertical-align: top;\n",
       "    }\n",
       "\n",
       "    .dataframe thead th {\n",
       "        text-align: right;\n",
       "    }\n",
       "</style>\n",
       "<table border=\"1\" class=\"dataframe\">\n",
       "  <thead>\n",
       "    <tr style=\"text-align: right;\">\n",
       "      <th></th>\n",
       "      <th>PassengerId</th>\n",
       "      <th>Survived</th>\n",
       "      <th>Pclass</th>\n",
       "      <th>Name</th>\n",
       "      <th>Sex</th>\n",
       "      <th>Age</th>\n",
       "      <th>SibSp</th>\n",
       "      <th>Parch</th>\n",
       "      <th>Ticket</th>\n",
       "      <th>Fare</th>\n",
       "      <th>Cabin</th>\n",
       "      <th>Embarked</th>\n",
       "    </tr>\n",
       "  </thead>\n",
       "  <tbody>\n",
       "    <tr>\n",
       "      <th>0</th>\n",
       "      <td>1</td>\n",
       "      <td>0</td>\n",
       "      <td>3</td>\n",
       "      <td>Braund, Mr. Owen Harris</td>\n",
       "      <td>male</td>\n",
       "      <td>22.0</td>\n",
       "      <td>1</td>\n",
       "      <td>0</td>\n",
       "      <td>A/5 21171</td>\n",
       "      <td>7.2500</td>\n",
       "      <td>NaN</td>\n",
       "      <td>S</td>\n",
       "    </tr>\n",
       "    <tr>\n",
       "      <th>1</th>\n",
       "      <td>2</td>\n",
       "      <td>1</td>\n",
       "      <td>1</td>\n",
       "      <td>Cumings, Mrs. John Bradley (Florence Briggs Th...</td>\n",
       "      <td>female</td>\n",
       "      <td>38.0</td>\n",
       "      <td>1</td>\n",
       "      <td>0</td>\n",
       "      <td>PC 17599</td>\n",
       "      <td>71.2833</td>\n",
       "      <td>C85</td>\n",
       "      <td>C</td>\n",
       "    </tr>\n",
       "    <tr>\n",
       "      <th>2</th>\n",
       "      <td>3</td>\n",
       "      <td>1</td>\n",
       "      <td>3</td>\n",
       "      <td>Heikkinen, Miss. Laina</td>\n",
       "      <td>female</td>\n",
       "      <td>26.0</td>\n",
       "      <td>0</td>\n",
       "      <td>0</td>\n",
       "      <td>STON/O2. 3101282</td>\n",
       "      <td>7.9250</td>\n",
       "      <td>NaN</td>\n",
       "      <td>S</td>\n",
       "    </tr>\n",
       "    <tr>\n",
       "      <th>3</th>\n",
       "      <td>4</td>\n",
       "      <td>1</td>\n",
       "      <td>1</td>\n",
       "      <td>Futrelle, Mrs. Jacques Heath (Lily May Peel)</td>\n",
       "      <td>female</td>\n",
       "      <td>35.0</td>\n",
       "      <td>1</td>\n",
       "      <td>0</td>\n",
       "      <td>113803</td>\n",
       "      <td>53.1000</td>\n",
       "      <td>C123</td>\n",
       "      <td>S</td>\n",
       "    </tr>\n",
       "    <tr>\n",
       "      <th>4</th>\n",
       "      <td>5</td>\n",
       "      <td>0</td>\n",
       "      <td>3</td>\n",
       "      <td>Allen, Mr. William Henry</td>\n",
       "      <td>male</td>\n",
       "      <td>35.0</td>\n",
       "      <td>0</td>\n",
       "      <td>0</td>\n",
       "      <td>373450</td>\n",
       "      <td>8.0500</td>\n",
       "      <td>NaN</td>\n",
       "      <td>S</td>\n",
       "    </tr>\n",
       "  </tbody>\n",
       "</table>\n",
       "</div>"
      ],
      "text/plain": [
       "   PassengerId  Survived  Pclass  \\\n",
       "0            1         0       3   \n",
       "1            2         1       1   \n",
       "2            3         1       3   \n",
       "3            4         1       1   \n",
       "4            5         0       3   \n",
       "\n",
       "                                                Name     Sex   Age  SibSp  \\\n",
       "0                            Braund, Mr. Owen Harris    male  22.0      1   \n",
       "1  Cumings, Mrs. John Bradley (Florence Briggs Th...  female  38.0      1   \n",
       "2                             Heikkinen, Miss. Laina  female  26.0      0   \n",
       "3       Futrelle, Mrs. Jacques Heath (Lily May Peel)  female  35.0      1   \n",
       "4                           Allen, Mr. William Henry    male  35.0      0   \n",
       "\n",
       "   Parch            Ticket     Fare Cabin Embarked  \n",
       "0      0         A/5 21171   7.2500   NaN        S  \n",
       "1      0          PC 17599  71.2833   C85        C  \n",
       "2      0  STON/O2. 3101282   7.9250   NaN        S  \n",
       "3      0            113803  53.1000  C123        S  \n",
       "4      0            373450   8.0500   NaN        S  "
      ]
     },
     "execution_count": 3,
     "metadata": {},
     "output_type": "execute_result"
    }
   ],
   "source": [
    "#test_df.head()\n",
    "train_df.head()"
   ]
  },
  {
   "cell_type": "markdown",
   "id": "052ca6b4",
   "metadata": {},
   "source": [
    "# 🔍 Exploratory Data Analysis (EDA)"
   ]
  },
  {
   "cell_type": "code",
   "execution_count": 5,
   "id": "24b3e15a",
   "metadata": {
    "execution": {
     "iopub.execute_input": "2025-09-10T14:35:08.219751Z",
     "iopub.status.busy": "2025-09-10T14:35:08.219270Z",
     "iopub.status.idle": "2025-09-10T14:35:08.247740Z",
     "shell.execute_reply": "2025-09-10T14:35:08.246676Z"
    },
    "papermill": {
     "duration": 0.035308,
     "end_time": "2025-09-10T14:35:08.249166",
     "exception": false,
     "start_time": "2025-09-10T14:35:08.213858",
     "status": "completed"
    },
    "tags": []
   },
   "outputs": [
    {
     "name": "stdout",
     "output_type": "stream",
     "text": [
      "<class 'pandas.core.frame.DataFrame'>\n",
      "RangeIndex: 891 entries, 0 to 890\n",
      "Data columns (total 12 columns):\n",
      " #   Column       Non-Null Count  Dtype  \n",
      "---  ------       --------------  -----  \n",
      " 0   PassengerId  891 non-null    int64  \n",
      " 1   Survived     891 non-null    int64  \n",
      " 2   Pclass       891 non-null    int64  \n",
      " 3   Name         891 non-null    object \n",
      " 4   Sex          891 non-null    object \n",
      " 5   Age          714 non-null    float64\n",
      " 6   SibSp        891 non-null    int64  \n",
      " 7   Parch        891 non-null    int64  \n",
      " 8   Ticket       891 non-null    object \n",
      " 9   Fare         891 non-null    float64\n",
      " 10  Cabin        204 non-null    object \n",
      " 11  Embarked     889 non-null    object \n",
      "dtypes: float64(2), int64(5), object(5)\n",
      "memory usage: 83.7+ KB\n",
      "\n",
      "\n",
      "---------------------------------\n",
      "\n",
      "\n",
      "<class 'pandas.core.frame.DataFrame'>\n",
      "RangeIndex: 418 entries, 0 to 417\n",
      "Data columns (total 11 columns):\n",
      " #   Column       Non-Null Count  Dtype  \n",
      "---  ------       --------------  -----  \n",
      " 0   PassengerId  418 non-null    int64  \n",
      " 1   Pclass       418 non-null    int64  \n",
      " 2   Name         418 non-null    object \n",
      " 3   Sex          418 non-null    object \n",
      " 4   Age          332 non-null    float64\n",
      " 5   SibSp        418 non-null    int64  \n",
      " 6   Parch        418 non-null    int64  \n",
      " 7   Ticket       418 non-null    object \n",
      " 8   Fare         417 non-null    float64\n",
      " 9   Cabin        91 non-null     object \n",
      " 10  Embarked     418 non-null    object \n",
      "dtypes: float64(2), int64(4), object(5)\n",
      "memory usage: 36.1+ KB\n"
     ]
    }
   ],
   "source": [
    "train_df.info()\n",
    "print(\"\\n\\n---------------------------------\\n\\n\")\n",
    "test_df.info()"
   ]
  },
  {
   "cell_type": "code",
   "execution_count": 6,
   "id": "fef3b546",
   "metadata": {
    "execution": {
     "iopub.execute_input": "2025-09-10T14:35:08.259383Z",
     "iopub.status.busy": "2025-09-10T14:35:08.259089Z",
     "iopub.status.idle": "2025-09-10T14:35:08.266627Z",
     "shell.execute_reply": "2025-09-10T14:35:08.265600Z"
    },
    "papermill": {
     "duration": 0.014323,
     "end_time": "2025-09-10T14:35:08.268079",
     "exception": false,
     "start_time": "2025-09-10T14:35:08.253756",
     "status": "completed"
    },
    "tags": []
   },
   "outputs": [
    {
     "data": {
      "text/html": [
       "<div>\n",
       "<style scoped>\n",
       "    .dataframe tbody tr th:only-of-type {\n",
       "        vertical-align: middle;\n",
       "    }\n",
       "\n",
       "    .dataframe tbody tr th {\n",
       "        vertical-align: top;\n",
       "    }\n",
       "\n",
       "    .dataframe thead th {\n",
       "        text-align: right;\n",
       "    }\n",
       "</style>\n",
       "<table border=\"1\" class=\"dataframe\">\n",
       "  <thead>\n",
       "    <tr style=\"text-align: right;\">\n",
       "      <th></th>\n",
       "      <th>PassengerId</th>\n",
       "      <th>Survived</th>\n",
       "      <th>Pclass</th>\n",
       "      <th>Age</th>\n",
       "      <th>SibSp</th>\n",
       "      <th>Parch</th>\n",
       "      <th>Fare</th>\n",
       "    </tr>\n",
       "  </thead>\n",
       "  <tbody>\n",
       "    <tr>\n",
       "      <th>count</th>\n",
       "      <td>891.000000</td>\n",
       "      <td>891.000000</td>\n",
       "      <td>891.000000</td>\n",
       "      <td>714.000000</td>\n",
       "      <td>891.000000</td>\n",
       "      <td>891.000000</td>\n",
       "      <td>891.000000</td>\n",
       "    </tr>\n",
       "    <tr>\n",
       "      <th>mean</th>\n",
       "      <td>446.000000</td>\n",
       "      <td>0.383838</td>\n",
       "      <td>2.308642</td>\n",
       "      <td>29.699118</td>\n",
       "      <td>0.523008</td>\n",
       "      <td>0.381594</td>\n",
       "      <td>32.204208</td>\n",
       "    </tr>\n",
       "    <tr>\n",
       "      <th>std</th>\n",
       "      <td>257.353842</td>\n",
       "      <td>0.486592</td>\n",
       "      <td>0.836071</td>\n",
       "      <td>14.526497</td>\n",
       "      <td>1.102743</td>\n",
       "      <td>0.806057</td>\n",
       "      <td>49.693429</td>\n",
       "    </tr>\n",
       "    <tr>\n",
       "      <th>min</th>\n",
       "      <td>1.000000</td>\n",
       "      <td>0.000000</td>\n",
       "      <td>1.000000</td>\n",
       "      <td>0.420000</td>\n",
       "      <td>0.000000</td>\n",
       "      <td>0.000000</td>\n",
       "      <td>0.000000</td>\n",
       "    </tr>\n",
       "    <tr>\n",
       "      <th>25%</th>\n",
       "      <td>223.500000</td>\n",
       "      <td>0.000000</td>\n",
       "      <td>2.000000</td>\n",
       "      <td>20.125000</td>\n",
       "      <td>0.000000</td>\n",
       "      <td>0.000000</td>\n",
       "      <td>7.910400</td>\n",
       "    </tr>\n",
       "    <tr>\n",
       "      <th>50%</th>\n",
       "      <td>446.000000</td>\n",
       "      <td>0.000000</td>\n",
       "      <td>3.000000</td>\n",
       "      <td>28.000000</td>\n",
       "      <td>0.000000</td>\n",
       "      <td>0.000000</td>\n",
       "      <td>14.454200</td>\n",
       "    </tr>\n",
       "    <tr>\n",
       "      <th>75%</th>\n",
       "      <td>668.500000</td>\n",
       "      <td>1.000000</td>\n",
       "      <td>3.000000</td>\n",
       "      <td>38.000000</td>\n",
       "      <td>1.000000</td>\n",
       "      <td>0.000000</td>\n",
       "      <td>31.000000</td>\n",
       "    </tr>\n",
       "    <tr>\n",
       "      <th>max</th>\n",
       "      <td>891.000000</td>\n",
       "      <td>1.000000</td>\n",
       "      <td>3.000000</td>\n",
       "      <td>80.000000</td>\n",
       "      <td>8.000000</td>\n",
       "      <td>6.000000</td>\n",
       "      <td>512.329200</td>\n",
       "    </tr>\n",
       "  </tbody>\n",
       "</table>\n",
       "</div>"
      ],
      "text/plain": [
       "       PassengerId    Survived      Pclass         Age       SibSp  \\\n",
       "count   891.000000  891.000000  891.000000  714.000000  891.000000   \n",
       "mean    446.000000    0.383838    2.308642   29.699118    0.523008   \n",
       "std     257.353842    0.486592    0.836071   14.526497    1.102743   \n",
       "min       1.000000    0.000000    1.000000    0.420000    0.000000   \n",
       "25%     223.500000    0.000000    2.000000   20.125000    0.000000   \n",
       "50%     446.000000    0.000000    3.000000   28.000000    0.000000   \n",
       "75%     668.500000    1.000000    3.000000   38.000000    1.000000   \n",
       "max     891.000000    1.000000    3.000000   80.000000    8.000000   \n",
       "\n",
       "            Parch        Fare  \n",
       "count  891.000000  891.000000  \n",
       "mean     0.381594   32.204208  \n",
       "std      0.806057   49.693429  \n",
       "min      0.000000    0.000000  \n",
       "25%      0.000000    7.910400  \n",
       "50%      0.000000   14.454200  \n",
       "75%      0.000000   31.000000  \n",
       "max      6.000000  512.329200  "
      ]
     },
     "execution_count": 6,
     "metadata": {},
     "output_type": "execute_result"
    }
   ],
   "source": [
    "train_df.describe()"
   ]
  },
  {
   "cell_type": "code",
   "execution_count": 7,
   "id": "0dfecfd7",
   "metadata": {
    "execution": {
     "iopub.execute_input": "2025-09-10T14:35:08.278897Z",
     "iopub.status.busy": "2025-09-10T14:35:08.278145Z",
     "iopub.status.idle": "2025-09-10T14:35:08.956131Z",
     "shell.execute_reply": "2025-09-10T14:35:08.955278Z"
    },
    "papermill": {
     "duration": 0.684774,
     "end_time": "2025-09-10T14:35:08.957552",
     "exception": false,
     "start_time": "2025-09-10T14:35:08.272778",
     "status": "completed"
    },
    "tags": []
   },
   "outputs": [
    {
     "data": {
      "image/png": "[encoded data removed]",
      "text/plain": [
       "<Figure size 1500x500 with 3 Axes>"
      ]
     },
     "metadata": {},
     "output_type": "display_data"
    }
   ],
   "source": [
    "sns.set_theme(style=\"whitegrid\")\n",
    "\n",
    "fig, axes = plt.subplots(1, 3, figsize=(15, 5))\n",
    "\n",
    "# Survived\n",
    "sns.countplot(x=\"Survived\", hue=\"Survived\", data=train_df, ax=axes[0], palette=\"pastel\", legend=False)\n",
    "\n",
    "# Survived by Sex\n",
    "sns.countplot(x='Sex', hue='Survived', data=train_df, ax=axes[1], palette=\"Set2\")\n",
    "axes[1].set_title('Survived by Sex')\n",
    "\n",
    "# Survived by Pclass\n",
    "sns.countplot(x='Pclass', hue='Survived', data=train_df, ax=axes[2], palette=\"Set3\")\n",
    "axes[2].set_title('Survived by Pclass')\n",
    "\n",
    "plt.tight_layout()\n",
    "plt.show()"
   ]
  },
  {
   "cell_type": "code",
   "execution_count": 8,
   "id": "1601aada",
   "metadata": {
    "execution": {
     "iopub.execute_input": "2025-09-10T14:35:08.970892Z",
     "iopub.status.busy": "2025-09-10T14:35:08.970226Z",
     "iopub.status.idle": "2025-09-10T14:35:09.715413Z",
     "shell.execute_reply": "2025-09-10T14:35:09.714606Z"
    },
    "papermill": {
     "duration": 0.754099,
     "end_time": "2025-09-10T14:35:09.717248",
     "exception": false,
     "start_time": "2025-09-10T14:35:08.963149",
     "status": "completed"
    },
    "tags": []
   },
   "outputs": [
    {
     "data": {
      "image/png": "[encoded data removed]",
      "text/plain": [
       "<Figure size 1200x500 with 2 Axes>"
      ]
     },
     "metadata": {},
     "output_type": "display_data"
    }
   ],
   "source": [
    "sns.set_theme(style=\"whitegrid\")\n",
    "\n",
    "fig, axes = plt.subplots(1, 2, figsize=(12, 5))\n",
    "\n",
    "# Age\n",
    "sns.histplot(train_df['Age'].dropna(), kde=True, bins=30, ax=axes[0], color=\"skyblue\")\n",
    "axes[0].set_title(\"Age\")\n",
    "\n",
    "# Fare\n",
    "sns.histplot(train_df['Fare'].dropna(), kde=True, bins=30, ax=axes[1], color=\"lightgreen\")\n",
    "axes[1].set_title(\"Fare\")\n",
    "\n",
    "plt.tight_layout()\n",
    "plt.show()\n"
   ]
  },
  {
   "cell_type": "code",
   "execution_count": 9,
   "id": "dae39070",
   "metadata": {
    "execution": {
     "iopub.execute_input": "2025-09-10T14:35:09.731806Z",
     "iopub.status.busy": "2025-09-10T14:35:09.731517Z",
     "iopub.status.idle": "2025-09-10T14:35:10.114704Z",
     "shell.execute_reply": "2025-09-10T14:35:10.113764Z"
    },
    "papermill": {
     "duration": 0.392032,
     "end_time": "2025-09-10T14:35:10.116659",
     "exception": false,
     "start_time": "2025-09-10T14:35:09.724627",
     "status": "completed"
    },
    "tags": []
   },
   "outputs": [
    {
     "data": {
      "image/png": "[encoded data removed]",
      "text/plain": [
       "<Figure size 800x600 with 2 Axes>"
      ]
     },
     "metadata": {},
     "output_type": "display_data"
    }
   ],
   "source": [
    "plt.figure(figsize=(8, 6))\n",
    "corr_matrix = train_df.corr(numeric_only=True)\n",
    "\n",
    "sns.heatmap(corr_matrix,\n",
    "            annot=True,\n",
    "            cmap='coolwarm',\n",
    "            fmt=\".2f\", \n",
    "            linewidths=0.5, \n",
    "            cbar_kws={'shrink': 0.8})  \n",
    "\n",
    "plt.title(\"Correlation Matrix\")\n",
    "plt.xticks(rotation=45)\n",
    "plt.yticks(rotation=0)\n",
    "plt.show()\n"
   ]
  },
  {
   "cell_type": "markdown",
   "id": "70e7ecbf",
   "metadata": {},
   "source": [
    "# 🛠 Feature Engineering\n",
    "\n",
    "- Extract Title from passenger names\n",
    "- Create Family Size feature\n",
    "- Fill missing values\n",
    "- Drop irrelevant columns"
   ]
  },
  {
   "cell_type": "code",
   "execution_count": 10,
   "id": "511454cd",
   "metadata": {},
   "outputs": [],
   "source": [
    "class TitleExtractor(BaseEstimator, TransformerMixin):\n",
    "    def __init__(self, column=\"Name\"):\n",
    "        self.column = column\n",
    "        self.rare_titles = ['Lady', 'Countess', 'Capt', 'Col', 'Don', 'Dr', \n",
    "                            'Major', 'Rev', 'Sir', 'Jonkheer', 'Dona']\n",
    "\n",
    "    def fit(self, X, y=None):\n",
    "        return self\n",
    "\n",
    "    def transform(self, X):\n",
    "        X_transformed = X.copy()\n",
    "        def extract_title(name):\n",
    "            if pd.isnull(name):\n",
    "                return \"Unknown\"\n",
    "            title = name.split(\",\")[1].split(\".\")[0].strip()\n",
    "            if title in self.rare_titles:\n",
    "                return \"Rare\"\n",
    "            return title\n",
    "        X_transformed[\"Title\"] = X_transformed[self.column].apply(extract_title)\n",
    "        return X_transformed[[\"Title\"]]\n",
    "    \n",
    "class FamilySizeWithAlone(BaseEstimator, TransformerMixin):\n",
    "    \n",
    "    def __init__(self, sibsp_col=\"SibSp\", parch_col=\"Parch\"):\n",
    "        self.sibsp_col = sibsp_col\n",
    "        self.parch_col = parch_col\n",
    "\n",
    "    def fit(self, X, y=None):\n",
    "        return self\n",
    "\n",
    "    def transform(self, X):\n",
    "        X_transformed = X.copy()\n",
    "        X_transformed[\"FamilySize\"] = X_transformed[self.sibsp_col] + X_transformed[self.parch_col] + 1\n",
    "        X_transformed[\"IsAlone\"] = (X_transformed[\"FamilySize\"] == 1).astype(int)\n",
    "        return X_transformed[[\"FamilySize\", \"IsAlone\"]]"
   ]
  },
  {
   "cell_type": "code",
   "execution_count": 11,
   "id": "ce87683f",
   "metadata": {
    "execution": {
     "iopub.execute_input": "2025-09-10T14:35:10.202997Z",
     "iopub.status.busy": "2025-09-10T14:35:10.202356Z",
     "iopub.status.idle": "2025-09-10T14:35:10.206964Z",
     "shell.execute_reply": "2025-09-10T14:35:10.206210Z"
    },
    "papermill": {
     "duration": 0.014026,
     "end_time": "2025-09-10T14:35:10.208251",
     "exception": false,
     "start_time": "2025-09-10T14:35:10.194225",
     "status": "completed"
    },
    "tags": []
   },
   "outputs": [],
   "source": [
    "# Create a preprocessing pipeline\n",
    "\n",
    "numerical_pipeline = Pipeline(steps=[\n",
    "    ('imputer', SimpleImputer(strategy='median')),\n",
    "    ('scaler', StandardScaler())\n",
    "])\n",
    "\n",
    "categorical_pipeline = Pipeline(steps=[\n",
    "    ('imputer', SimpleImputer(strategy='most_frequent')),\n",
    "    ('onehot', OneHotEncoder(handle_unknown='ignore'))\n",
    "])\n",
    "\n",
    "title_pipeline = Pipeline(steps=[\n",
    "    (\"extract\", TitleExtractor(column=\"Name\")),\n",
    "    (\"onehot\", OneHotEncoder(handle_unknown=\"ignore\"))\n",
    "])\n",
    "\n",
    "family_pipeline = Pipeline(steps=[\n",
    "    (\"extract\", FamilySizeWithAlone(sibsp_col=\"SibSp\", parch_col=\"Parch\")),\n",
    "    (\"scaler\", StandardScaler())\n",
    "])"
   ]
  },
  {
   "cell_type": "code",
   "execution_count": null,
   "id": "4eb027c1",
   "metadata": {
    "execution": {
     "iopub.execute_input": "2025-09-10T14:35:10.223955Z",
     "iopub.status.busy": "2025-09-10T14:35:10.223613Z",
     "iopub.status.idle": "2025-09-10T14:35:10.227811Z",
     "shell.execute_reply": "2025-09-10T14:35:10.226975Z"
    },
    "papermill": {
     "duration": 0.013615,
     "end_time": "2025-09-10T14:35:10.229273",
     "exception": false,
     "start_time": "2025-09-10T14:35:10.215658",
     "status": "completed"
    },
    "tags": []
   },
   "outputs": [],
   "source": [
    "# Combine transformers using ColumnTransformer\n",
    "\n",
    "preprocessor = ColumnTransformer(transformers=[\n",
    "    (\"num\", numerical_pipeline, make_column_selector(dtype_include=[\"int64\", \"float64\"])),\n",
    "    (\"cat\", categorical_pipeline, make_column_selector(dtype_include=[\"object\", \"category\"])),\n",
    "    (\"title\", title_pipeline, [\"Name\"]),\n",
    "    (\"family\", family_pipeline, [\"SibSp\", \"Parch\"])\n",
    "])"
   ]
  },
  {
   "cell_type": "code",
   "execution_count": 36,
   "id": "4db0e34a",
   "metadata": {
    "execution": {
     "iopub.execute_input": "2025-09-10T14:35:10.244705Z",
     "iopub.status.busy": "2025-09-10T14:35:10.244447Z",
     "iopub.status.idle": "2025-09-10T14:35:10.263812Z",
     "shell.execute_reply": "2025-09-10T14:35:10.263141Z"
    },
    "papermill": {
     "duration": 0.028742,
     "end_time": "2025-09-10T14:35:10.265298",
     "exception": false,
     "start_time": "2025-09-10T14:35:10.236556",
     "status": "completed"
    },
    "tags": []
   },
   "outputs": [],
   "source": [
    "passenger_ids = test_df[\"PassengerId\"]\n",
    "X_train = train_df.drop(columns=[\"Survived\"])\n",
    "y_train = train_df['Survived']\n",
    "X_test = test_df\n",
    "\n",
    "X_train_processed = preprocessor.fit_transform(X_train)\n",
    "X_test_processed = preprocessor.transform(X_test)"
   ]
  },
  {
   "cell_type": "code",
   "execution_count": null,
   "id": "fb3c89b6",
   "metadata": {},
   "outputs": [
    {
     "name": "stdout",
     "output_type": "stream",
     "text": [
      "<Compressed Sparse Row sparse matrix of dtype 'float64'\n",
      "\twith 5124 stored elements and shape (418, 1741)>\n",
      "  Coords\tValues\n",
      "  (0, 0)\t1.7339958399701274\n",
      "  (0, 1)\t0.8273772438659699\n",
      "  (0, 2)\t0.3948865804412651\n",
      "  (0, 3)\t-0.47454519624983954\n",
      "  (0, 4)\t-0.4736736092984604\n",
      "  (0, 5)\t-0.49078316061772326\n",
      "  (0, 439)\t1.0\n",
      "  (0, 898)\t1.0\n",
      "  (0, 1627)\t1.0\n",
      "  (0, 1728)\t1.0\n",
      "  (0, 1734)\t1.0\n",
      "  (0, 1739)\t-0.5609748304808925\n",
      "  (0, 1740)\t0.8119223343984152\n",
      "  (1, 0)\t1.7378837230193878\n",
      "  (1, 1)\t0.8273772438659699\n",
      "  (1, 2)\t1.3555096219574048\n",
      "  (1, 3)\t0.4327933656785018\n",
      "  (1, 4)\t-0.4736736092984604\n",
      "  (1, 5)\t-0.5074788432328381\n",
      "  (1, 897)\t1.0\n",
      "  (1, 1627)\t1.0\n",
      "  (1, 1729)\t1.0\n",
      "  (1, 1735)\t1.0\n",
      "  (1, 1739)\t0.059159876663617626\n",
      "  (1, 1740)\t-1.2316448970959013\n",
      "  :\t:\n",
      "  (416, 0)\t3.3513551884624437\n",
      "  (416, 1)\t0.8273772438659699\n",
      "  (416, 2)\t-0.10463740114712752\n",
      "  (416, 3)\t-0.47454519624983954\n",
      "  (416, 4)\t-0.4736736092984604\n",
      "  (416, 5)\t-0.4863374216869257\n",
      "  (416, 898)\t1.0\n",
      "  (416, 1627)\t1.0\n",
      "  (416, 1729)\t1.0\n",
      "  (416, 1734)\t1.0\n",
      "  (416, 1739)\t-0.5609748304808925\n",
      "  (416, 1740)\t0.8119223343984152\n",
      "  (417, 0)\t3.355243071511704\n",
      "  (417, 1)\t0.8273772438659699\n",
      "  (417, 2)\t-0.10463740114712752\n",
      "  (417, 3)\t0.4327933656785018\n",
      "  (417, 4)\t0.7676298785983874\n",
      "  (417, 5)\t-0.19824427701513722\n",
      "  (417, 898)\t1.0\n",
      "  (417, 1095)\t1.0\n",
      "  (417, 1627)\t1.0\n",
      "  (417, 1727)\t1.0\n",
      "  (417, 1730)\t1.0\n",
      "  (417, 1739)\t0.6792945838081278\n",
      "  (417, 1740)\t-1.2316448970959013\n"
     ]
    }
   ],
   "source": []
  },
  {
   "cell_type": "code",
   "execution_count": 19,
   "id": "0bdb1145",
   "metadata": {
    "execution": {
     "iopub.execute_input": "2025-09-10T14:35:10.281304Z",
     "iopub.status.busy": "2025-09-10T14:35:10.281006Z",
     "iopub.status.idle": "2025-09-10T14:35:10.285218Z",
     "shell.execute_reply": "2025-09-10T14:35:10.284426Z"
    },
    "papermill": {
     "duration": 0.013782,
     "end_time": "2025-09-10T14:35:10.286522",
     "exception": false,
     "start_time": "2025-09-10T14:35:10.272740",
     "status": "completed"
    },
    "tags": []
   },
   "outputs": [],
   "source": [
    "# Get column names after one-hot encoding\n",
    "\n",
    "ohe_feature_names = preprocessor.named_transformers_['cat']['onehot'].get_feature_names_out(categorical_features)\n",
    "all_feature_names = numerical_features + list(ohe_feature_names)"
   ]
  },
  {
   "cell_type": "code",
   "execution_count": 20,
   "id": "7c85e9d6",
   "metadata": {
    "execution": {
     "iopub.execute_input": "2025-09-10T14:35:10.302051Z",
     "iopub.status.busy": "2025-09-10T14:35:10.301729Z",
     "iopub.status.idle": "2025-09-10T14:35:10.311992Z",
     "shell.execute_reply": "2025-09-10T14:35:10.311163Z"
    },
    "papermill": {
     "duration": 0.019769,
     "end_time": "2025-09-10T14:35:10.313493",
     "exception": false,
     "start_time": "2025-09-10T14:35:10.293724",
     "status": "completed"
    },
    "tags": []
   },
   "outputs": [
    {
     "name": "stdout",
     "output_type": "stream",
     "text": [
      "\n",
      "Data after preprocessing (first 5 rows):\n",
      "        Age      Fare     SibSp  Parch  Pclass_1  Pclass_2  Pclass_3  \\\n",
      "0 -0.581628 -0.503291  0.481288 -0.445       0.0       0.0       1.0   \n",
      "1  0.658652  0.734744  0.481288 -0.445       1.0       0.0       0.0   \n",
      "2 -0.271558 -0.490240 -0.479087 -0.445       0.0       0.0       1.0   \n",
      "3  0.426099  0.383183  0.481288 -0.445       1.0       0.0       0.0   \n",
      "4  0.426099 -0.487824 -0.479087 -0.445       0.0       0.0       1.0   \n",
      "\n",
      "   Sex_female  Sex_male  Embarked_C  Embarked_Q  Embarked_S  \n",
      "0         0.0       1.0         0.0         0.0         1.0  \n",
      "1         1.0       0.0         1.0         0.0         0.0  \n",
      "2         1.0       0.0         0.0         0.0         1.0  \n",
      "3         1.0       0.0         0.0         0.0         1.0  \n",
      "4         0.0       1.0         0.0         0.0         1.0  \n"
     ]
    }
   ],
   "source": [
    "# Convert back to DataFrame for easier inspection (optional, you can go directly to the model)\n",
    "combined_processed_df = pd.DataFrame(combined_processed, columns=all_feature_names)\n",
    "\n",
    "print(\"\\nData after preprocessing (first 5 rows):\")\n",
    "print(combined_processed_df.head())"
   ]
  },
  {
   "cell_type": "code",
   "execution_count": 21,
   "id": "56d28761",
   "metadata": {
    "execution": {
     "iopub.execute_input": "2025-09-10T14:35:10.329339Z",
     "iopub.status.busy": "2025-09-10T14:35:10.329043Z",
     "iopub.status.idle": "2025-09-10T14:35:10.333487Z",
     "shell.execute_reply": "2025-09-10T14:35:10.332804Z"
    },
    "papermill": {
     "duration": 0.013916,
     "end_time": "2025-09-10T14:35:10.334702",
     "exception": false,
     "start_time": "2025-09-10T14:35:10.320786",
     "status": "completed"
    },
    "tags": []
   },
   "outputs": [],
   "source": [
    "# Split back the training and testing data\n",
    "X_train_processed = combined_processed_df.iloc[:len(train_df)]\n",
    "X_test_processed = combined_processed_df.iloc[len(train_df):]\n",
    "y_train = train_labels"
   ]
  },
  {
   "cell_type": "code",
   "execution_count": 22,
   "id": "0c2520ef",
   "metadata": {
    "execution": {
     "iopub.execute_input": "2025-09-10T14:35:10.350873Z",
     "iopub.status.busy": "2025-09-10T14:35:10.350268Z",
     "iopub.status.idle": "2025-09-10T14:35:10.355021Z",
     "shell.execute_reply": "2025-09-10T14:35:10.354143Z"
    },
    "papermill": {
     "duration": 0.01425,
     "end_time": "2025-09-10T14:35:10.356295",
     "exception": false,
     "start_time": "2025-09-10T14:35:10.342045",
     "status": "completed"
    },
    "tags": []
   },
   "outputs": [],
   "source": [
    "# Define the models to be tested\n",
    "models = {\n",
    "    'Logistic Regression': LogisticRegression(random_state=42, solver='liblinear'),\n",
    "    'Decision Tree': DecisionTreeClassifier(random_state=42),\n",
    "    'Random Forest': RandomForestClassifier(random_state=42),\n",
    "    'Gradient Boosting': GradientBoostingClassifier(random_state=42),\n",
    "    'Support Vector Machine': SVC(probability=True, random_state=42)\n",
    "}"
   ]
  },
  {
   "cell_type": "code",
   "execution_count": null,
   "id": "810f0c33",
   "metadata": {
    "execution": {
     "iopub.execute_input": "2025-09-10T14:35:10.372383Z",
     "iopub.status.busy": "2025-09-10T14:35:10.371735Z",
     "iopub.status.idle": "2025-09-10T14:35:12.727899Z",
     "shell.execute_reply": "2025-09-10T14:35:12.726883Z"
    },
    "papermill": {
     "duration": 2.365837,
     "end_time": "2025-09-10T14:35:12.729483",
     "exception": false,
     "start_time": "2025-09-10T14:35:10.363646",
     "status": "completed"
    },
    "tags": []
   },
   "outputs": [
    {
     "name": "stdout",
     "output_type": "stream",
     "text": [
      "\n",
      "Training and evaluating Logistic Regression...\n",
      "  CV Mean Accuracy: 0.7924\n",
      "  Train Accuracy: 0.8058\n",
      "\n",
      "Training and evaluating Decision Tree...\n",
      "  CV Mean Accuracy: 0.7834\n",
      "  Train Accuracy: 0.9798\n",
      "\n",
      "Training and evaluating Random Forest...\n",
      "  CV Mean Accuracy: 0.8103\n",
      "  Train Accuracy: 0.9798\n",
      "\n",
      "Training and evaluating Gradient Boosting...\n",
      "  CV Mean Accuracy: 0.8238\n",
      "  Train Accuracy: 0.9035\n",
      "\n",
      "Training and evaluating Support Vector Machine...\n",
      "  CV Mean Accuracy: 0.8272\n",
      "  Train Accuracy: 0.8384\n"
     ]
    }
   ],
   "source": [
    "# Train and evaluate each model using Cross-Validation\n",
    "\n",
    "results = {}\n",
    "\n",
    "for name, model in models.items():\n",
    "    print(f\"\\nTraining and evaluating {name}...\")\n",
    "\n",
    "    cv_scores = cross_val_score(model, X_train_processed, y_train, cv=5, scoring='accuracy')\n",
    "    model.fit(X_train_processed, y_train)\n",
    "    y_pred_train = model.predict(X_train_processed)\n",
    "    train_accuracy = accuracy_score(y_train, y_pred_train)\n",
    "    results[name] = {\n",
    "        'CV Mean Accuracy': cv_scores.mean(),\n",
    "        'CV Std Dev': cv_scores.std(),\n",
    "        'Train Accuracy': train_accuracy,\n",
    "        'Model': model\n",
    "    }\n",
    "    print(f\"CV Mean Accuracy: {results[name]['CV Mean Accuracy']:.4f}\")\n",
    "    print(f\"Train Accuracy: {results[name]['Train Accuracy']:.4f}\")"
   ]
  },
  {
   "cell_type": "code",
   "execution_count": 24,
   "id": "cceb9949",
   "metadata": {
    "execution": {
     "iopub.execute_input": "2025-09-10T14:35:12.746223Z",
     "iopub.status.busy": "2025-09-10T14:35:12.745845Z",
     "iopub.status.idle": "2025-09-10T14:35:12.751012Z",
     "shell.execute_reply": "2025-09-10T14:35:12.750126Z"
    },
    "papermill": {
     "duration": 0.014841,
     "end_time": "2025-09-10T14:35:12.752297",
     "exception": false,
     "start_time": "2025-09-10T14:35:12.737456",
     "status": "completed"
    },
    "tags": []
   },
   "outputs": [
    {
     "name": "stdout",
     "output_type": "stream",
     "text": [
      "Best model: Support Vector Machine\n"
     ]
    }
   ],
   "source": [
    "best_model_name = sorted(results.items(), key=lambda item: item[1]['CV Mean Accuracy'], reverse=True)[0][0]\n",
    "print(f\"Best model: {best_model_name}\")\n",
    "model_to_tune = models[best_model_name]"
   ]
  },
  {
   "cell_type": "code",
   "execution_count": 25,
   "id": "0e436ce2",
   "metadata": {
    "execution": {
     "iopub.execute_input": "2025-09-10T14:35:12.769211Z",
     "iopub.status.busy": "2025-09-10T14:35:12.768434Z",
     "iopub.status.idle": "2025-09-10T14:35:16.361143Z",
     "shell.execute_reply": "2025-09-10T14:35:16.360326Z"
    },
    "papermill": {
     "duration": 3.602686,
     "end_time": "2025-09-10T14:35:16.362657",
     "exception": false,
     "start_time": "2025-09-10T14:35:12.759971",
     "status": "completed"
    },
    "tags": []
   },
   "outputs": [
    {
     "name": "stdout",
     "output_type": "stream",
     "text": [
      "Fitting 5 folds for each of 6 candidates, totalling 30 fits\n",
      "\n",
      "Best parameters for Support Vector Machine: {'C': 1.0, 'kernel': 'rbf'}\n",
      "Best cross-validation accuracy for Support Vector Machine: 0.8272\n"
     ]
    }
   ],
   "source": [
    "# Define parameter grid for GridSearchCV\n",
    "if best_model_name == 'Random Forest':\n",
    "    param_grid = {\n",
    "        'n_estimators': [100, 200, 300],\n",
    "        'max_depth': [None, 10, 20, 30],\n",
    "        'min_samples_split': [2, 5, 10],\n",
    "        'min_samples_leaf': [1, 2, 4]\n",
    "    }\n",
    "elif best_model_name == 'Gradient Boosting':\n",
    "    param_grid = {\n",
    "        'n_estimators': [100, 200, 300],\n",
    "        'learning_rate': [0.01, 0.1, 0.2],\n",
    "        'max_depth': [3, 5, 7]\n",
    "    }\n",
    "elif best_model_name == 'Logistic Regression':\n",
    "    param_grid = {\n",
    "        'C': [0.1, 1.0, 10.0]\n",
    "    }\n",
    "elif best_model_name == 'Support Vector Machine':\n",
    "    param_grid = {\n",
    "        'C': [0.1, 1.0, 10.0],\n",
    "        'kernel': ['rbf', 'linear']\n",
    "    }\n",
    "else:  # Decision Tree\n",
    "    param_grid = {\n",
    "        'max_depth': [None, 5, 10, 15],\n",
    "        'min_samples_split': [2, 5, 10]\n",
    "    }\n",
    "\n",
    "# Perform Grid Search with 5-fold cross-validation\n",
    "grid_search = GridSearchCV(model_to_tune, param_grid, cv=5, scoring='accuracy', n_jobs=-1, verbose=1)\n",
    "grid_search.fit(X_train_processed, y_train)\n",
    "\n",
    "print(f\"\\nBest parameters for {best_model_name}: {grid_search.best_params_}\")\n",
    "print(f\"Best cross-validation accuracy for {best_model_name}: {grid_search.best_score_:.4f}\")\n",
    "\n",
    "# Get the final tuned model\n",
    "final_model = grid_search.best_estimator_\n"
   ]
  },
  {
   "cell_type": "code",
   "execution_count": 26,
   "id": "d7f9e9e5",
   "metadata": {
    "execution": {
     "iopub.execute_input": "2025-09-10T14:35:16.379754Z",
     "iopub.status.busy": "2025-09-10T14:35:16.379431Z",
     "iopub.status.idle": "2025-09-10T14:35:16.405196Z",
     "shell.execute_reply": "2025-09-10T14:35:16.404079Z"
    },
    "papermill": {
     "duration": 0.036182,
     "end_time": "2025-09-10T14:35:16.406717",
     "exception": false,
     "start_time": "2025-09-10T14:35:16.370535",
     "status": "completed"
    },
    "tags": []
   },
   "outputs": [
    {
     "name": "stdout",
     "output_type": "stream",
     "text": [
      "Submission file successfully created: output/submission_titanic.csv\n",
      "   PassengerId  Survived\n",
      "0          892         0\n",
      "1          893         0\n",
      "2          894         0\n",
      "3          895         0\n",
      "4          896         0\n"
     ]
    }
   ],
   "source": [
    "y_test_pred = final_model.predict(X_test_processed)\n",
    "\n",
    "submission_df = pd.DataFrame({\n",
    "    'PassengerId': passenger_ids,\n",
    "    'Survived': y_test_pred\n",
    "})\n",
    "submission_df['Survived'] = submission_df['Survived'].astype(int)\n",
    "\n",
    "output_folder = 'output'\n",
    "submission_file_path = f'{output_folder}/submission_titanic.csv'\n",
    "\n",
    "# Create folder if it doesn't exist\n",
    "import os\n",
    "os.makedirs(output_folder, exist_ok=True)\n",
    "\n",
    "# Save CSV file to the folder\n",
    "submission_df.to_csv(submission_file_path, index=False)\n",
    "\n",
    "print(f\"Submission file successfully created: {submission_file_path}\")\n",
    "print(submission_df.head())\n"
   ]
  }
 ],
 "metadata": {
  "kaggle": {
   "accelerator": "none",
   "dataSources": [
    {
     "databundleVersionId": 26502,
     "sourceId": 3136,
     "sourceType": "competition"
    }
   ],
   "dockerImageVersionId": 31089,
   "isGpuEnabled": false,
   "isInternetEnabled": false,
   "language": "python",
   "sourceType": "notebook"
  },
  "kernelspec": {
   "display_name": "Python 3",
   "language": "python",
   "name": "python3"
  },
  "language_info": {
   "codemirror_mode": {
    "name": "ipython",
    "version": 3
   },
   "file_extension": ".py",
   "mimetype": "text/x-python",
   "name": "python",
   "nbconvert_exporter": "python",
   "pygments_lexer": "ipython3",
   "version": "3.12.0"
  },
  "papermill": {
   "default_parameters": {},
   "duration": 20.283517,
   "end_time": "2025-09-10T14:35:19.034023",
   "environment_variables": {},
   "exception": null,
   "input_path": "__notebook__.ipynb",
   "output_path": "__notebook__.ipynb",
   "parameters": {},
   "start_time": "2025-09-10T14:34:58.750506",
   "version": "2.6.0"
  }
 },
 "nbformat": 4,
 "nbformat_minor": 5
}
